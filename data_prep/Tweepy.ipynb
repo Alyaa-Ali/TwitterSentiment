{
 "cells": [
  {
   "cell_type": "code",
   "execution_count": 1,
   "metadata": {},
   "outputs": [],
   "source": [
    "import tweepy\n",
    "import json\n",
    "import os\n",
    "import sys\n",
    "sys.path.append(\"..\") \n",
    "from app.db_builder import create_large_db\n",
    "from textblob import TextBlob\n",
    "import time"
   ]
  },
  {
   "cell_type": "code",
   "execution_count": 6,
   "metadata": {},
   "outputs": [
    {
     "name": "stdout",
     "output_type": "stream",
     "text": [
      "SQL database built at ../app/database/large-11-17.db\n",
      "2017/11/17/16/22.json: 597660 : (24/24) & (60/60) : Time left: 0.0 min513153076173 min6863604 min5527 min\r"
     ]
    }
   ],
   "source": [
    "def complete_percentage(folder, json):\n",
    "    num_folders = 24 -1 \n",
    "    num_json = 60\n",
    "\n",
    "    return  (int(folder)/num_folders + (int(json)/num_json)/24)*100\n",
    "\n",
    "directory = '2017/11/'\n",
    "folder_count = 0\n",
    "json_count = 0\n",
    "elapsed_time = 0\n",
    "num_tweets = 0\n",
    "max_tweets_per_min = 60\n",
    "tweets_this_minute = 0\n",
    "db_large = create_large_db('../app/database/large-11-17.db')\n",
    "db_large.create_table()\n",
    "\n",
    "for day in range(11,18):\n",
    "    folder_count = 0\n",
    "    directory = '2017/11/' + str(day)\n",
    "    # Hour in the day\n",
    "    for folder in os.listdir(directory):  \n",
    "        folder_count = folder_count + 1\n",
    "        json_count = 0\n",
    "\n",
    "        # Minute in the hour\n",
    "        for filename in os.listdir(directory + '/' +folder):  \n",
    "            json_count = json_count + 1\n",
    "            print(directory + '/' +folder+'/'+filename + ': ' \n",
    "                  + str(num_tweets) + ' : (' + str(folder_count)+'/24) & ('+str(json_count)+'/60) : Time left: ' +\n",
    "                  str(elapsed_time*(60*24-json_count*folder_count)) + ' min', end='\\r')\n",
    "            tweets_this_minute = 0\n",
    "            if filename.endswith(\".json\"):\n",
    "                start = time.time()\n",
    "\n",
    "                # Tweets in the file\n",
    "                for line in open(directory + '/' +folder+'/'+filename, 'r'):\n",
    "                    current_tweet = json.loads(line)\n",
    "\n",
    "\n",
    "                    #Only select english tweets\n",
    "                    if 'lang' in current_tweet:\n",
    "                        if current_tweet['lang'] == 'en':\n",
    "\n",
    "                            tweets_this_minute = tweets_this_minute + 1\n",
    "                            if tweets_this_minute > max_tweets_per_min:\n",
    "                                break\n",
    "\n",
    "                            text = current_tweet['text']\n",
    "                            sentiment = TextBlob(text).sentiment.polarity\n",
    "\n",
    "                            #print(current_tweet['favorite_count'])\n",
    "                            num_tweets = num_tweets + 1\n",
    "                            #break\n",
    "                            entry = db_large.create(\n",
    "                                    sentiment = sentiment,\n",
    "                                    user_id = current_tweet['user']['id'],\n",
    "                                    created_at = current_tweet['created_at'],\n",
    "                                    text = current_tweet['text'],\n",
    "                                    favorited = current_tweet['favorited'],\n",
    "                                    user_mentions = current_tweet['entities']['user_mentions'])\n",
    "\n",
    "                end = time.time()\n",
    "                elapsed_time = (end - start)/60\n",
    "                continue\n",
    "            else:\n",
    "                continue\n",
    "\n",
    "\n",
    "\n"
   ]
  },
  {
   "cell_type": "code",
   "execution_count": 9,
   "metadata": {},
   "outputs": [
    {
     "data": {
      "text/plain": [
       "['in_reply_to_screen_name',\n",
       " 'in_reply_to_user_id',\n",
       " 'entities',\n",
       " 'in_reply_to_status_id',\n",
       " 'coordinates',\n",
       " 'retweeted',\n",
       " 'geo',\n",
       " 'timestamp_ms',\n",
       " 'contributors',\n",
       " 'is_quote_status',\n",
       " 'in_reply_to_user_id_str',\n",
       " 'in_reply_to_status_id_str',\n",
       " 'place',\n",
       " 'favorited',\n",
       " 'retweet_count',\n",
       " 'lang',\n",
       " 'id',\n",
       " 'id_str',\n",
       " 'favorite_count',\n",
       " 'text',\n",
       " 'filter_level',\n",
       " 'truncated',\n",
       " 'source',\n",
       " 'reply_count',\n",
       " 'created_at',\n",
       " 'retweeted_status',\n",
       " 'user',\n",
       " 'quote_count']"
      ]
     },
     "metadata": {},
     "output_type": "display_data"
    },
    {
     "data": {
      "text/plain": [
       "0"
      ]
     },
     "execution_count": 9,
     "metadata": {},
     "output_type": "execute_result"
    }
   ],
   "source": [
    "display(list(current_tweet.keys()))\n",
    "\n",
    "current_tweet['favorite_count']"
   ]
  },
  {
   "cell_type": "code",
   "execution_count": 32,
   "metadata": {},
   "outputs": [
    {
     "data": {
      "text/plain": [
       "'Yorkie Lover'"
      ]
     },
     "execution_count": 32,
     "metadata": {},
     "output_type": "execute_result"
    }
   ],
   "source": [
    "consumer_key =\"5OCCjBu50wAy6i0SlhLyHbrgL\"\n",
    "consumer_secret =\"tCR8UEwk2gZOespQzptC3tuijPNKeskLugdMg3tzS4kYEsXLnl\"\n",
    "\n",
    "access_token = \"1090287617176932352-Q5M4fRAUrCsc1f6IJdPnxqa83I385y\"\n",
    "access_token_secret = \"AnoUdWc5s226efeVmSexNxNukaH1qyasUwElpGwuf6pLV\"\n",
    "\n",
    "auth = tweepy.OAuthHandler(consumer_key, consumer_secret)\n",
    "auth.set_access_token(access_token, access_token_secret)\n",
    "\n",
    "api = tweepy.API(auth)\n",
    "\n",
    "query = 'chicago'\n",
    "max_tweets = 100\n",
    "#searched_tweets = [status for status in tweepy.Cursor(api.search, q=query).items(max_tweets)]\n",
    "\n",
    "api.get_user(3192795723).created_at"
   ]
  }
 ],
 "metadata": {
  "kernelspec": {
   "display_name": "Python 3",
   "language": "python",
   "name": "python3"
  },
  "language_info": {
   "codemirror_mode": {
    "name": "ipython",
    "version": 3
   },
   "file_extension": ".py",
   "mimetype": "text/x-python",
   "name": "python",
   "nbconvert_exporter": "python",
   "pygments_lexer": "ipython3",
   "version": "3.5.3"
  }
 },
 "nbformat": 4,
 "nbformat_minor": 2
}
