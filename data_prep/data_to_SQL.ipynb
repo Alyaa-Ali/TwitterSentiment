{
 "cells": [
  {
   "cell_type": "code",
   "execution_count": 2,
   "metadata": {},
   "outputs": [],
   "source": [
    "from db_builder import create_db\n",
    "import datetime\n",
    "import time"
   ]
  },
  {
   "cell_type": "code",
   "execution_count": 3,
   "metadata": {},
   "outputs": [
    {
     "name": "stdout",
     "output_type": "stream",
     "text": [
      "SQL database built at ../database/kaggle.db\n"
     ]
    }
   ],
   "source": [
    "# This block makes an SQLite database \n",
    "db_kaggle = create_db('../database/kaggle.db')\n",
    "db_kaggle.create_table()\n"
   ]
  },
  {
   "cell_type": "code",
   "execution_count": 5,
   "metadata": {},
   "outputs": [
    {
     "name": "stdout",
     "output_type": "stream",
     "text": [
      "0\n",
      "1\n",
      "2\n",
      "3\n",
      "4\n",
      "5\n",
      "6\n",
      "7\n",
      "8\n",
      "9\n"
     ]
    }
   ],
   "source": [
    "# This block demonstrates how to add entries into the database\n",
    "\n",
    "for i in range(0,int(10)):\n",
    "    print(i)\n",
    "    entry = db_kaggle.create(\n",
    "        sentiment = i,\n",
    "        username = 'DangerMouse',\n",
    "        date = str(datetime.datetime.now()),\n",
    "        content='Really really like the trains'\n",
    "    )"
   ]
  },
  {
   "cell_type": "code",
   "execution_count": 8,
   "metadata": {},
   "outputs": [
    {
     "name": "stdout",
     "output_type": "stream",
     "text": [
      "Num entries:10\n",
      "2019-02-02 17:50:44.198809\n",
      "2019-02-02 17:50:44.212553\n",
      "2019-02-02 17:50:44.215800\n",
      "2019-02-02 17:50:44.218904\n",
      "2019-02-02 17:50:44.222239\n",
      "2019-02-02 17:50:44.225240\n",
      "2019-02-02 17:50:44.228490\n",
      "2019-02-02 17:50:44.231623\n",
      "2019-02-02 17:50:44.234338\n",
      "2019-02-02 17:50:44.237018\n"
     ]
    }
   ],
   "source": [
    "# This block demonstrates how to query the database\n",
    "query = (db_kaggle\n",
    "         .select()\n",
    "         .where(db_kaggle.content.match('trains')))\n",
    "\n",
    "\n",
    "print('Num entries:' + str(len(query)))\n",
    "for entry in query:\n",
    "    print(entry.date)"
   ]
  }
 ],
 "metadata": {
  "kernelspec": {
   "display_name": "Python 3",
   "language": "python",
   "name": "python3"
  },
  "language_info": {
   "codemirror_mode": {
    "name": "ipython",
    "version": 3
   },
   "file_extension": ".py",
   "mimetype": "text/x-python",
   "name": "python",
   "nbconvert_exporter": "python",
   "pygments_lexer": "ipython3",
   "version": "3.5.3"
  }
 },
 "nbformat": 4,
 "nbformat_minor": 2
}
