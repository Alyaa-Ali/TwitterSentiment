{
 "cells": [
  {
   "cell_type": "code",
   "execution_count": 89,
   "metadata": {},
   "outputs": [],
   "source": [
    "from db_builder import create_db\n",
    "import pandas as pd\n",
    "import datetime\n",
    "import time\n",
    "import matplotlib.pyplot as plt"
   ]
  },
  {
   "cell_type": "code",
   "execution_count": 68,
   "metadata": {},
   "outputs": [
    {
     "name": "stdout",
     "output_type": "stream",
     "text": [
      "SQL database built at ../database/kaggle.db\n"
     ]
    }
   ],
   "source": [
    "# This block makes an SQLite database \n",
    "db_kaggle = create_db('../database/kaggle.db')\n",
    "db_kaggle.create_table()\n"
   ]
  },
  {
   "cell_type": "code",
   "execution_count": 69,
   "metadata": {},
   "outputs": [
    {
     "data": {
      "text/html": [
       "<div>\n",
       "<style scoped>\n",
       "    .dataframe tbody tr th:only-of-type {\n",
       "        vertical-align: middle;\n",
       "    }\n",
       "\n",
       "    .dataframe tbody tr th {\n",
       "        vertical-align: top;\n",
       "    }\n",
       "\n",
       "    .dataframe thead th {\n",
       "        text-align: right;\n",
       "    }\n",
       "</style>\n",
       "<table border=\"1\" class=\"dataframe\">\n",
       "  <thead>\n",
       "    <tr style=\"text-align: right;\">\n",
       "      <th></th>\n",
       "      <th>a</th>\n",
       "      <th>b</th>\n",
       "      <th>c</th>\n",
       "      <th>d</th>\n",
       "      <th>e</th>\n",
       "      <th>f</th>\n",
       "    </tr>\n",
       "  </thead>\n",
       "  <tbody>\n",
       "    <tr>\n",
       "      <th>0</th>\n",
       "      <td>0</td>\n",
       "      <td>1467810672</td>\n",
       "      <td>Mon Apr 06 22:19:49 PDT 2009</td>\n",
       "      <td>NO_QUERY</td>\n",
       "      <td>scotthamilton</td>\n",
       "      <td>is upset that he can't update his Facebook by ...</td>\n",
       "    </tr>\n",
       "    <tr>\n",
       "      <th>1</th>\n",
       "      <td>0</td>\n",
       "      <td>1467810917</td>\n",
       "      <td>Mon Apr 06 22:19:53 PDT 2009</td>\n",
       "      <td>NO_QUERY</td>\n",
       "      <td>mattycus</td>\n",
       "      <td>@Kenichan I dived many times for the ball. Man...</td>\n",
       "    </tr>\n",
       "    <tr>\n",
       "      <th>2</th>\n",
       "      <td>0</td>\n",
       "      <td>1467811184</td>\n",
       "      <td>Mon Apr 06 22:19:57 PDT 2009</td>\n",
       "      <td>NO_QUERY</td>\n",
       "      <td>ElleCTF</td>\n",
       "      <td>my whole body feels itchy and like its on fire</td>\n",
       "    </tr>\n",
       "    <tr>\n",
       "      <th>3</th>\n",
       "      <td>0</td>\n",
       "      <td>1467811193</td>\n",
       "      <td>Mon Apr 06 22:19:57 PDT 2009</td>\n",
       "      <td>NO_QUERY</td>\n",
       "      <td>Karoli</td>\n",
       "      <td>@nationwideclass no, it's not behaving at all....</td>\n",
       "    </tr>\n",
       "    <tr>\n",
       "      <th>4</th>\n",
       "      <td>0</td>\n",
       "      <td>1467811372</td>\n",
       "      <td>Mon Apr 06 22:20:00 PDT 2009</td>\n",
       "      <td>NO_QUERY</td>\n",
       "      <td>joy_wolf</td>\n",
       "      <td>@Kwesidei not the whole crew</td>\n",
       "    </tr>\n",
       "  </tbody>\n",
       "</table>\n",
       "</div>"
      ],
      "text/plain": [
       "   a           b                             c         d              e  \\\n",
       "0  0  1467810672  Mon Apr 06 22:19:49 PDT 2009  NO_QUERY  scotthamilton   \n",
       "1  0  1467810917  Mon Apr 06 22:19:53 PDT 2009  NO_QUERY       mattycus   \n",
       "2  0  1467811184  Mon Apr 06 22:19:57 PDT 2009  NO_QUERY        ElleCTF   \n",
       "3  0  1467811193  Mon Apr 06 22:19:57 PDT 2009  NO_QUERY         Karoli   \n",
       "4  0  1467811372  Mon Apr 06 22:20:00 PDT 2009  NO_QUERY       joy_wolf   \n",
       "\n",
       "                                                   f  \n",
       "0  is upset that he can't update his Facebook by ...  \n",
       "1  @Kenichan I dived many times for the ball. Man...  \n",
       "2    my whole body feels itchy and like its on fire   \n",
       "3  @nationwideclass no, it's not behaving at all....  \n",
       "4                      @Kwesidei not the whole crew   "
      ]
     },
     "execution_count": 69,
     "metadata": {},
     "output_type": "execute_result"
    }
   ],
   "source": [
    "#kaggle_data = pd.read_csv('../database/training.1600000.processed.noemoticon.csv',encoding = \"cp1252\")\n",
    "\n",
    "kaggle_data.head()"
   ]
  },
  {
   "cell_type": "code",
   "execution_count": 78,
   "metadata": {},
   "outputs": [
    {
     "name": "stdout",
     "output_type": "stream",
     "text": [
      "1599998\r"
     ]
    }
   ],
   "source": [
    "# This block demonstrates how to add entries into the database\n",
    "\n",
    "for index, row in kaggle_data.iterrows():\n",
    "    print(index,end=\"\\r\")\n",
    "    \n",
    "    entry = db_kaggle.create(\n",
    "        sentiment = row['a'],\n",
    "        username = row['e'],\n",
    "        date = row['c'],\n",
    "        content= row['f']\n",
    "    )"
   ]
  },
  {
   "cell_type": "code",
   "execution_count": 162,
   "metadata": {},
   "outputs": [
    {
     "name": "stdout",
     "output_type": "stream",
     "text": [
      "0.005707740783691406\n",
      "Num entries:6208\n"
     ]
    },
    {
     "data": {
      "text/plain": [
       "6208"
      ]
     },
     "execution_count": 162,
     "metadata": {},
     "output_type": "execute_result"
    },
    {
     "data": {
      "image/png": "[encoded data removed]",
      "text/plain": [
       "<Figure size 432x288 with 1 Axes>"
      ]
     },
     "metadata": {
      "needs_background": "light"
     },
     "output_type": "display_data"
    }
   ],
   "source": [
    "# This block demonstrates how to query the database\n",
    "start = time.time()\n",
    "query = (db_kaggle\n",
    "         .select()\n",
    "         .where(db_kaggle.content.match('Money')))\n",
    "end = time.time()\n",
    "print(end - start)\n",
    "\n",
    "print('Num entries:' + str(len(query)))\n",
    "\n",
    "# Now we're going to extract the sentiment and date information and get the average sentiment on a particular date\n",
    "sentiment_array = []\n",
    "date_dict = {}\n",
    "count_dict = {}\n",
    "\n",
    "\n",
    "for entry in query:\n",
    "    sentiment_array.append(entry.sentiment)\n",
    "\n",
    "    # We need to remove the timezone, day and hour data\n",
    "    temp_date = entry.date.split()\n",
    "    \n",
    "    temp_date.pop(0)\n",
    "    temp_date.pop(2)\n",
    "    temp_date.pop(2)\n",
    "\n",
    "    # This makes it a datetime object for easier working\n",
    "    formatted_date = datetime.datetime.strptime(' '.join(temp_date), '%b %d %Y')\n",
    "    \n",
    "    # We now take the average of the sentiment by keeping a running average\n",
    "    if formatted_date in date_dict:\n",
    "        count_dict[formatted_date] = count_dict[formatted_date] + 1\n",
    "        date_dict[formatted_date] = (date_dict[formatted_date] + \n",
    "                                    (entry.sentiment-date_dict[formatted_date])/\n",
    "                                     count_dict[formatted_date])\n",
    "    else:\n",
    "        count_dict[formatted_date] = 0\n",
    "        date_dict[formatted_date] = 0\n",
    "      \n",
    "\n",
    "plt.scatter(date_dict.keys(),date_dict.values())   \n",
    "plt.xticks(rotation='vertical')\n",
    "plt.plot()\n",
    "\n"
   ]
  }
 ],
 "metadata": {
  "kernelspec": {
   "display_name": "Python 3",
   "language": "python",
   "name": "python3"
  },
  "language_info": {
   "codemirror_mode": {
    "name": "ipython",
    "version": 3
   },
   "file_extension": ".py",
   "mimetype": "text/x-python",
   "name": "python",
   "nbconvert_exporter": "python",
   "pygments_lexer": "ipython3",
   "version": "3.5.3"
  }
 },
 "nbformat": 4,
 "nbformat_minor": 2
}
