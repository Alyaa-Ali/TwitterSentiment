{
 "cells": [
  {
   "cell_type": "code",
   "execution_count": 4,
   "metadata": {},
   "outputs": [],
   "source": [
    "import sys\n",
    "sys.path.append(\"..\") \n",
    "from app.db_builder import create_large_db\n",
    "import pandas as pd\n",
    "import datetime\n",
    "import time\n",
    "import numpy as np\n",
    "import matplotlib.pyplot as plt\n",
    "import matplotlib.dates as matplot_dates"
   ]
  },
  {
   "cell_type": "code",
   "execution_count": 3,
   "metadata": {},
   "outputs": [
    {
     "name": "stdout",
     "output_type": "stream",
     "text": [
      "SQL database built at ../app/database/large-11-17.db\n"
     ]
    }
   ],
   "source": [
    "# This block makes an SQLite database \n",
    "db = create_large_db('../app/database/large-11-17.db')\n",
    "db.create_table()\n"
   ]
  },
  {
   "cell_type": "code",
   "execution_count": 32,
   "metadata": {},
   "outputs": [
    {
     "ename": "NameError",
     "evalue": "name 'kaggle_data' is not defined",
     "output_type": "error",
     "traceback": [
      "\u001b[0;31m---------------------------------------------------------------------------\u001b[0m",
      "\u001b[0;31mNameError\u001b[0m                                 Traceback (most recent call last)",
      "\u001b[0;32m<ipython-input-32-ccf8bafd63fb>\u001b[0m in \u001b[0;36m<module>\u001b[0;34m\u001b[0m\n\u001b[1;32m      1\u001b[0m \u001b[0;31m#kaggle_data = pd.read_csv('../database/training.1600000.processed.noemoticon.csv',encoding = \"cp1252\")\u001b[0m\u001b[0;34m\u001b[0m\u001b[0;34m\u001b[0m\u001b[0m\n\u001b[1;32m      2\u001b[0m \u001b[0;34m\u001b[0m\u001b[0m\n\u001b[0;32m----> 3\u001b[0;31m \u001b[0mkaggle_data\u001b[0m\u001b[0;34m.\u001b[0m\u001b[0mhead\u001b[0m\u001b[0;34m(\u001b[0m\u001b[0;34m)\u001b[0m\u001b[0;34m\u001b[0m\u001b[0m\n\u001b[0m",
      "\u001b[0;31mNameError\u001b[0m: name 'kaggle_data' is not defined"
     ]
    }
   ],
   "source": [
    "#kaggle_data = pd.read_csv('../database/training.1600000.processed.noemoticon.csv',encoding = \"cp1252\")\n",
    "\n",
    "kaggle_data.head()"
   ]
  },
  {
   "cell_type": "code",
   "execution_count": 33,
   "metadata": {},
   "outputs": [
    {
     "ename": "NameError",
     "evalue": "name 'kaggle_data' is not defined",
     "output_type": "error",
     "traceback": [
      "\u001b[0;31m---------------------------------------------------------------------------\u001b[0m",
      "\u001b[0;31mNameError\u001b[0m                                 Traceback (most recent call last)",
      "\u001b[0;32m<ipython-input-33-2c4404a43c32>\u001b[0m in \u001b[0;36m<module>\u001b[0;34m\u001b[0m\n\u001b[1;32m      1\u001b[0m \u001b[0;31m# This block demonstrates how to add entries into the database\u001b[0m\u001b[0;34m\u001b[0m\u001b[0;34m\u001b[0m\u001b[0m\n\u001b[1;32m      2\u001b[0m \u001b[0;34m\u001b[0m\u001b[0m\n\u001b[0;32m----> 3\u001b[0;31m \u001b[0;32mfor\u001b[0m \u001b[0mindex\u001b[0m\u001b[0;34m,\u001b[0m \u001b[0mrow\u001b[0m \u001b[0;32min\u001b[0m \u001b[0mkaggle_data\u001b[0m\u001b[0;34m.\u001b[0m\u001b[0miterrows\u001b[0m\u001b[0;34m(\u001b[0m\u001b[0;34m)\u001b[0m\u001b[0;34m:\u001b[0m\u001b[0;34m\u001b[0m\u001b[0m\n\u001b[0m\u001b[1;32m      4\u001b[0m     \u001b[0mprint\u001b[0m\u001b[0;34m(\u001b[0m\u001b[0mindex\u001b[0m\u001b[0;34m,\u001b[0m\u001b[0mend\u001b[0m\u001b[0;34m=\u001b[0m\u001b[0;34m\"\\r\"\u001b[0m\u001b[0;34m)\u001b[0m\u001b[0;34m\u001b[0m\u001b[0m\n\u001b[1;32m      5\u001b[0m \u001b[0;34m\u001b[0m\u001b[0m\n",
      "\u001b[0;31mNameError\u001b[0m: name 'kaggle_data' is not defined"
     ]
    }
   ],
   "source": [
    "# This block demonstrates how to add entries into the database\n",
    "\n",
    "for index, row in kaggle_data.iterrows():\n",
    "    print(index,end=\"\\r\")\n",
    "    \n",
    "    entry = db_kaggle.create(\n",
    "        sentiment = row['a'],\n",
    "        username = row['e'],\n",
    "        date = row['c'],\n",
    "        content= row['f']\n",
    "    )"
   ]
  },
  {
   "cell_type": "raw",
   "metadata": {},
   "source": []
  },
  {
   "cell_type": "code",
   "execution_count": 6,
   "metadata": {},
   "outputs": [
    {
     "name": "stdout",
     "output_type": "stream",
     "text": [
      "0.0010859966278076172\n",
      "Num entries:215\n"
     ]
    },
    {
     "data": {
      "image/png": "[encoded data removed]",
      "text/plain": [
       "<Figure size 432x288 with 1 Axes>"
      ]
     },
     "metadata": {
      "needs_background": "light"
     },
     "output_type": "display_data"
    }
   ],
   "source": [
    "\n",
    "\n",
    "# This block demonstrates how to query the database\n",
    "start = time.time()\n",
    "query = (db\n",
    "         .select()\n",
    "         .where(db.text.match('Green')))\n",
    "end = time.time()\n",
    "print(end - start)\n",
    "\n",
    "print('Num entries:' + str(len(query)))\n",
    "\n",
    "# Now we're going to extract the sentiment and date information and get the average sentiment on a particular date\n",
    "sentiment_array = []\n",
    "date_dict = {}\n",
    "count_dict = {}\n",
    "fav_max = 0\n",
    "\n",
    "\n",
    "for entry in query:\n",
    "    sentiment_array.append(entry.sentiment)\n",
    "    #if entry.urls is not None:\n",
    "        #print(entry.retweet_count)\n",
    "    # We need to remove the timezone, day and hour data\n",
    "    temp_date = entry.created_at.split()\n",
    "\n",
    "    temp_date.pop(0)\n",
    "    temp_date.pop(2)\n",
    "    temp_date.pop(2)\n",
    "\n",
    "    # This makes it a datetime object for easier working\n",
    "    #formatted_date = datetime.datetime.strptime(' '.join(temp_date), '%b %d %Y')\n",
    "    formatted_date = ' '.join(temp_date)\n",
    "    # We now take the average of the sentiment by keeping a running average\n",
    "    if formatted_date in date_dict:\n",
    "        count_dict[formatted_date] = count_dict[formatted_date] + 1\n",
    "        date_dict[formatted_date] = (date_dict[formatted_date] + \n",
    "                                    (entry.sentiment-date_dict[formatted_date])/\n",
    "                                     count_dict[formatted_date])\n",
    "    else:\n",
    "        count_dict[formatted_date] = 0\n",
    "        date_dict[formatted_date] = 0\n",
    "\n",
    "sorted_dates = sorted(count_dict)\n",
    "\n",
    "plt.plot_date(sorted_dates,date_dict.values())   \n",
    "plt.xticks(rotation='vertical')\n",
    "plt.plot()\n",
    "\n",
    "date_list = []\n",
    "sentiment_list = []\n",
    "\n",
    "for key in sorted(date_dict):\n",
    "    date_list.append(key), sentiment_list.append(date_dict[key])\n",
    "           \n"
   ]
  }
 ],
 "metadata": {
  "kernelspec": {
   "display_name": "Python 3",
   "language": "python",
   "name": "python3"
  },
  "language_info": {
   "codemirror_mode": {
    "name": "ipython",
    "version": 3
   },
   "file_extension": ".py",
   "mimetype": "text/x-python",
   "name": "python",
   "nbconvert_exporter": "python",
   "pygments_lexer": "ipython3",
   "version": "3.5.3"
  }
 },
 "nbformat": 4,
 "nbformat_minor": 2
}
